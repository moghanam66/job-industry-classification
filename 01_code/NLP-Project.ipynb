{
 "cells": [
  {
   "cell_type": "markdown",
   "metadata": {},
   "source": [
    "NLP Task by\n",
    "Mohamed Adel gomma Mohamed Elghannam\n",
    "\n",
    "my report:\n",
    "https://docs.google.com/document/d/1JXEEDhsowo6gzEHPlF2tMJNT1AchX9ElDWNEreBKuB8/edit?usp=sharing"
   ]
  },
  {
   "cell_type": "code",
   "execution_count": 1,
   "metadata": {
    "colab": {
     "base_uri": "https://localhost:8080/"
    },
    "id": "Ckqq9m-ytwmW",
    "outputId": "3dcb174b-bbb0-4f43-f402-7a419ffd96c4"
   },
   "outputs": [],
   "source": [
    "import pandas as pd\n",
    "from imblearn.over_sampling import SMOTE\n",
    "import numpy as np\n",
    "from sklearn.model_selection import train_test_split\n",
    "from sklearn import metrics"
   ]
  },
  {
   "cell_type": "code",
   "execution_count": 2,
   "metadata": {
    "id": "D-A1ziG4twmY"
   },
   "outputs": [],
   "source": [
    "# Reading CSV file\n",
    "df = pd.read_csv(\"Job titles and industries.csv\")"
   ]
  },
  {
   "cell_type": "markdown",
   "metadata": {},
   "source": [
    "# Data Exploration and Preparation"
   ]
  },
  {
   "cell_type": "code",
   "execution_count": 3,
   "metadata": {
    "colab": {
     "base_uri": "https://localhost:8080/",
     "height": 203
    },
    "id": "kFDLBksCtwmZ",
    "outputId": "bea0ce90-e49d-470a-f43c-060d0e774dae"
   },
   "outputs": [
    {
     "data": {
      "text/html": [
       "<div>\n",
       "<style scoped>\n",
       "    .dataframe tbody tr th:only-of-type {\n",
       "        vertical-align: middle;\n",
       "    }\n",
       "\n",
       "    .dataframe tbody tr th {\n",
       "        vertical-align: top;\n",
       "    }\n",
       "\n",
       "    .dataframe thead th {\n",
       "        text-align: right;\n",
       "    }\n",
       "</style>\n",
       "<table border=\"1\" class=\"dataframe\">\n",
       "  <thead>\n",
       "    <tr style=\"text-align: right;\">\n",
       "      <th></th>\n",
       "      <th>job title</th>\n",
       "      <th>industry</th>\n",
       "    </tr>\n",
       "  </thead>\n",
       "  <tbody>\n",
       "    <tr>\n",
       "      <th>0</th>\n",
       "      <td>technical support and helpdesk supervisor - co...</td>\n",
       "      <td>IT</td>\n",
       "    </tr>\n",
       "    <tr>\n",
       "      <th>1</th>\n",
       "      <td>senior technical support engineer</td>\n",
       "      <td>IT</td>\n",
       "    </tr>\n",
       "    <tr>\n",
       "      <th>2</th>\n",
       "      <td>head of it services</td>\n",
       "      <td>IT</td>\n",
       "    </tr>\n",
       "    <tr>\n",
       "      <th>3</th>\n",
       "      <td>js front end engineer</td>\n",
       "      <td>IT</td>\n",
       "    </tr>\n",
       "    <tr>\n",
       "      <th>4</th>\n",
       "      <td>network and telephony controller</td>\n",
       "      <td>IT</td>\n",
       "    </tr>\n",
       "  </tbody>\n",
       "</table>\n",
       "</div>"
      ],
      "text/plain": [
       "                                           job title industry\n",
       "0  technical support and helpdesk supervisor - co...       IT\n",
       "1                  senior technical support engineer       IT\n",
       "2                                head of it services       IT\n",
       "3                              js front end engineer       IT\n",
       "4                   network and telephony controller       IT"
      ]
     },
     "execution_count": 3,
     "metadata": {},
     "output_type": "execute_result"
    }
   ],
   "source": [
    "df.head()"
   ]
  },
  {
   "cell_type": "code",
   "execution_count": 4,
   "metadata": {
    "colab": {
     "base_uri": "https://localhost:8080/"
    },
    "id": "DEnz8rgLtwma",
    "outputId": "388ed1c8-5971-4182-f6c6-60713e1faa5d"
   },
   "outputs": [
    {
     "data": {
      "text/plain": [
       "(8586, 2)"
      ]
     },
     "execution_count": 4,
     "metadata": {},
     "output_type": "execute_result"
    }
   ],
   "source": [
    "df.shape"
   ]
  },
  {
   "cell_type": "code",
   "execution_count": 5,
   "metadata": {
    "colab": {
     "base_uri": "https://localhost:8080/"
    },
    "id": "_5XrR8Oztwmb",
    "outputId": "e8f02e4a-67df-41fd-804b-f3e5e2e5a047"
   },
   "outputs": [
    {
     "name": "stdout",
     "output_type": "stream",
     "text": [
      "True     4618\n",
      "False    3968\n",
      "dtype: int64\n"
     ]
    }
   ],
   "source": [
    "# Counting the dublicate values\n",
    "print(df.duplicated().value_counts())"
   ]
  },
  {
   "cell_type": "code",
   "execution_count": 6,
   "metadata": {
    "id": "CEutFuGKtwmb"
   },
   "outputs": [],
   "source": [
    "#dropping the dublicates\n",
    "df.drop_duplicates(inplace=True)"
   ]
  },
  {
   "cell_type": "code",
   "execution_count": 7,
   "metadata": {
    "colab": {
     "base_uri": "https://localhost:8080/"
    },
    "id": "Zcw_IeRstwmc",
    "outputId": "c8ec4daa-130b-46dd-f6c1-b171d1a32f38"
   },
   "outputs": [
    {
     "data": {
      "text/plain": [
       "(3968, 2)"
      ]
     },
     "execution_count": 7,
     "metadata": {},
     "output_type": "execute_result"
    }
   ],
   "source": [
    "df.shape"
   ]
  },
  {
   "cell_type": "code",
   "execution_count": 8,
   "metadata": {
    "colab": {
     "base_uri": "https://localhost:8080/"
    },
    "id": "Oa5s5hiHtwmc",
    "outputId": "d2e1ad36-9477-4df8-c7af-a46c5b809ff5"
   },
   "outputs": [
    {
     "data": {
      "text/plain": [
       "job title    0\n",
       "industry     0\n",
       "dtype: int64"
      ]
     },
     "execution_count": 8,
     "metadata": {},
     "output_type": "execute_result"
    }
   ],
   "source": [
    "# Counting the null values\n",
    "df.isnull().sum()"
   ]
  },
  {
   "cell_type": "code",
   "execution_count": 9,
   "metadata": {
    "colab": {
     "base_uri": "https://localhost:8080/"
    },
    "id": "jbRpJDAptwmd",
    "outputId": "fe85eca6-0c0a-4f23-fa68-6c31118824f9"
   },
   "outputs": [
    {
     "name": "stdout",
     "output_type": "stream",
     "text": [
      "['technical support and helpdesk supervisor - county buildings, ayr soa04086'\n",
      " 'senior technical support engineer' 'head of it services' ...\n",
      " 'sales & marketing manager' 'marketing & digital marketing consultant'\n",
      " 'creative copywriter (arabic/english)']\n"
     ]
    }
   ],
   "source": [
    "# Presenting the unique job names\n",
    "unique_job_titles = df['job title'].unique()\n",
    "print(unique_job_titles)"
   ]
  },
  {
   "cell_type": "code",
   "execution_count": 10,
   "metadata": {
    "colab": {
     "base_uri": "https://localhost:8080/"
    },
    "id": "kCXZJNdgtwme",
    "outputId": "5b13fced-9edb-499b-c180-99ceb7119926"
   },
   "outputs": [
    {
     "data": {
      "text/plain": [
       "commercial analyst                                                      3\n",
       "data analyst                                                            3\n",
       "technical support engineer                                              3\n",
       "account manager                                                         3\n",
       "business development manager                                            3\n",
       "                                                                       ..\n",
       "communication specialist                                                1\n",
       "automation test engineer                                                1\n",
       "content marketing editor                                                1\n",
       "accounts assistant german speaking                                      1\n",
       "practice management software developer, leading top 10 firm, gatwick    1\n",
       "Name: job title, Length: 3890, dtype: int64"
      ]
     },
     "execution_count": 10,
     "metadata": {},
     "output_type": "execute_result"
    }
   ],
   "source": [
    "# counting each job name \n",
    "df['job title'].value_counts()"
   ]
  },
  {
   "cell_type": "code",
   "execution_count": 11,
   "metadata": {
    "colab": {
     "base_uri": "https://localhost:8080/"
    },
    "id": "OAUaNCS2twmf",
    "outputId": "4dc5cb46-49e3-4c22-fc93-8b064a508815"
   },
   "outputs": [
    {
     "data": {
      "text/plain": [
       "IT             1529\n",
       "Marketing      1203\n",
       "Education       973\n",
       "Accountancy     263\n",
       "Name: industry, dtype: int64"
      ]
     },
     "execution_count": 11,
     "metadata": {},
     "output_type": "execute_result"
    }
   ],
   "source": [
    "# counting the values of each label\n",
    "df['industry'].value_counts()"
   ]
  },
  {
   "cell_type": "code",
   "execution_count": 12,
   "metadata": {
    "id": "I5SGnvp0twmf"
   },
   "outputs": [],
   "source": [
    "# Encoding the categorical column of jobs by using OneHotEncoder\n",
    "\n",
    "from sklearn.preprocessing import OneHotEncoder\n",
    "\n",
    "\n",
    "\n",
    "cat_encoder = OneHotEncoder()\n",
    "\n",
    "encoded_column = cat_encoder.fit_transform( df[['job title']] )\n",
    "\n",
    "X = pd.DataFrame(encoded_column.toarray() , columns = cat_encoder.categories_)"
   ]
  },
  {
   "cell_type": "code",
   "execution_count": 13,
   "metadata": {
    "colab": {
     "base_uri": "https://localhost:8080/",
     "height": 437
    },
    "id": "iZWOGI0itwmf",
    "outputId": "96071b77-a754-44b8-b1bf-5e236af433ed"
   },
   "outputs": [
    {
     "data": {
      "text/html": [
       "<div>\n",
       "<style scoped>\n",
       "    .dataframe tbody tr th:only-of-type {\n",
       "        vertical-align: middle;\n",
       "    }\n",
       "\n",
       "    .dataframe tbody tr th {\n",
       "        vertical-align: top;\n",
       "    }\n",
       "\n",
       "    .dataframe thead tr th {\n",
       "        text-align: left;\n",
       "    }\n",
       "</style>\n",
       "<table border=\"1\" class=\"dataframe\">\n",
       "  <thead>\n",
       "    <tr>\n",
       "      <th></th>\n",
       "      <th>'e' marketing assistant</th>\n",
       "      <th>.net / sql software engineer</th>\n",
       "      <th>.net analyst programmer</th>\n",
       "      <th>.net architect - asp.net  microservices aws</th>\n",
       "      <th>.net core - 6 month contract - reigate - competitive rates</th>\n",
       "      <th>.net developer</th>\n",
       "      <th>.net developer - .net core, react and vue.js</th>\n",
       "      <th>.net developer - angular - greenfield project</th>\n",
       "      <th>.net developer - asp.net</th>\n",
       "      <th>.net developer - c#</th>\n",
       "      <th>...</th>\n",
       "      <th>year 4 teacher - chichester</th>\n",
       "      <th>year 4 teacher required for outstanding primary- essex</th>\n",
       "      <th>year 5 &amp; 6 teacher</th>\n",
       "      <th>year 5 teacher</th>\n",
       "      <th>year 5 teaching assistant</th>\n",
       "      <th>year 5 teaching assistant - coventry primary school</th>\n",
       "      <th>year 6 teacher</th>\n",
       "      <th>year 6 teacher, leeds</th>\n",
       "      <th>year 6 teaching assistant</th>\n",
       "      <th>youth mentor</th>\n",
       "    </tr>\n",
       "  </thead>\n",
       "  <tbody>\n",
       "    <tr>\n",
       "      <th>0</th>\n",
       "      <td>0.0</td>\n",
       "      <td>0.0</td>\n",
       "      <td>0.0</td>\n",
       "      <td>0.0</td>\n",
       "      <td>0.0</td>\n",
       "      <td>0.0</td>\n",
       "      <td>0.0</td>\n",
       "      <td>0.0</td>\n",
       "      <td>0.0</td>\n",
       "      <td>0.0</td>\n",
       "      <td>...</td>\n",
       "      <td>0.0</td>\n",
       "      <td>0.0</td>\n",
       "      <td>0.0</td>\n",
       "      <td>0.0</td>\n",
       "      <td>0.0</td>\n",
       "      <td>0.0</td>\n",
       "      <td>0.0</td>\n",
       "      <td>0.0</td>\n",
       "      <td>0.0</td>\n",
       "      <td>0.0</td>\n",
       "    </tr>\n",
       "    <tr>\n",
       "      <th>1</th>\n",
       "      <td>0.0</td>\n",
       "      <td>0.0</td>\n",
       "      <td>0.0</td>\n",
       "      <td>0.0</td>\n",
       "      <td>0.0</td>\n",
       "      <td>0.0</td>\n",
       "      <td>0.0</td>\n",
       "      <td>0.0</td>\n",
       "      <td>0.0</td>\n",
       "      <td>0.0</td>\n",
       "      <td>...</td>\n",
       "      <td>0.0</td>\n",
       "      <td>0.0</td>\n",
       "      <td>0.0</td>\n",
       "      <td>0.0</td>\n",
       "      <td>0.0</td>\n",
       "      <td>0.0</td>\n",
       "      <td>0.0</td>\n",
       "      <td>0.0</td>\n",
       "      <td>0.0</td>\n",
       "      <td>0.0</td>\n",
       "    </tr>\n",
       "    <tr>\n",
       "      <th>2</th>\n",
       "      <td>0.0</td>\n",
       "      <td>0.0</td>\n",
       "      <td>0.0</td>\n",
       "      <td>0.0</td>\n",
       "      <td>0.0</td>\n",
       "      <td>0.0</td>\n",
       "      <td>0.0</td>\n",
       "      <td>0.0</td>\n",
       "      <td>0.0</td>\n",
       "      <td>0.0</td>\n",
       "      <td>...</td>\n",
       "      <td>0.0</td>\n",
       "      <td>0.0</td>\n",
       "      <td>0.0</td>\n",
       "      <td>0.0</td>\n",
       "      <td>0.0</td>\n",
       "      <td>0.0</td>\n",
       "      <td>0.0</td>\n",
       "      <td>0.0</td>\n",
       "      <td>0.0</td>\n",
       "      <td>0.0</td>\n",
       "    </tr>\n",
       "    <tr>\n",
       "      <th>3</th>\n",
       "      <td>0.0</td>\n",
       "      <td>0.0</td>\n",
       "      <td>0.0</td>\n",
       "      <td>0.0</td>\n",
       "      <td>0.0</td>\n",
       "      <td>0.0</td>\n",
       "      <td>0.0</td>\n",
       "      <td>0.0</td>\n",
       "      <td>0.0</td>\n",
       "      <td>0.0</td>\n",
       "      <td>...</td>\n",
       "      <td>0.0</td>\n",
       "      <td>0.0</td>\n",
       "      <td>0.0</td>\n",
       "      <td>0.0</td>\n",
       "      <td>0.0</td>\n",
       "      <td>0.0</td>\n",
       "      <td>0.0</td>\n",
       "      <td>0.0</td>\n",
       "      <td>0.0</td>\n",
       "      <td>0.0</td>\n",
       "    </tr>\n",
       "    <tr>\n",
       "      <th>4</th>\n",
       "      <td>0.0</td>\n",
       "      <td>0.0</td>\n",
       "      <td>0.0</td>\n",
       "      <td>0.0</td>\n",
       "      <td>0.0</td>\n",
       "      <td>0.0</td>\n",
       "      <td>0.0</td>\n",
       "      <td>0.0</td>\n",
       "      <td>0.0</td>\n",
       "      <td>0.0</td>\n",
       "      <td>...</td>\n",
       "      <td>0.0</td>\n",
       "      <td>0.0</td>\n",
       "      <td>0.0</td>\n",
       "      <td>0.0</td>\n",
       "      <td>0.0</td>\n",
       "      <td>0.0</td>\n",
       "      <td>0.0</td>\n",
       "      <td>0.0</td>\n",
       "      <td>0.0</td>\n",
       "      <td>0.0</td>\n",
       "    </tr>\n",
       "  </tbody>\n",
       "</table>\n",
       "<p>5 rows × 3890 columns</p>\n",
       "</div>"
      ],
      "text/plain": [
       "  'e' marketing assistant .net / sql software engineer  \\\n",
       "0                     0.0                          0.0   \n",
       "1                     0.0                          0.0   \n",
       "2                     0.0                          0.0   \n",
       "3                     0.0                          0.0   \n",
       "4                     0.0                          0.0   \n",
       "\n",
       "  .net analyst programmer .net architect - asp.net  microservices aws  \\\n",
       "0                     0.0                                         0.0   \n",
       "1                     0.0                                         0.0   \n",
       "2                     0.0                                         0.0   \n",
       "3                     0.0                                         0.0   \n",
       "4                     0.0                                         0.0   \n",
       "\n",
       "  .net core - 6 month contract - reigate - competitive rates .net developer  \\\n",
       "0                                                0.0                    0.0   \n",
       "1                                                0.0                    0.0   \n",
       "2                                                0.0                    0.0   \n",
       "3                                                0.0                    0.0   \n",
       "4                                                0.0                    0.0   \n",
       "\n",
       "  .net developer - .net core, react and vue.js  \\\n",
       "0                                          0.0   \n",
       "1                                          0.0   \n",
       "2                                          0.0   \n",
       "3                                          0.0   \n",
       "4                                          0.0   \n",
       "\n",
       "  .net developer - angular - greenfield project .net developer - asp.net  \\\n",
       "0                                           0.0                      0.0   \n",
       "1                                           0.0                      0.0   \n",
       "2                                           0.0                      0.0   \n",
       "3                                           0.0                      0.0   \n",
       "4                                           0.0                      0.0   \n",
       "\n",
       "  .net developer - c#  ... year 4 teacher - chichester  \\\n",
       "0                 0.0  ...                         0.0   \n",
       "1                 0.0  ...                         0.0   \n",
       "2                 0.0  ...                         0.0   \n",
       "3                 0.0  ...                         0.0   \n",
       "4                 0.0  ...                         0.0   \n",
       "\n",
       "  year 4 teacher required for outstanding primary- essex year 5 & 6 teacher  \\\n",
       "0                                                0.0                    0.0   \n",
       "1                                                0.0                    0.0   \n",
       "2                                                0.0                    0.0   \n",
       "3                                                0.0                    0.0   \n",
       "4                                                0.0                    0.0   \n",
       "\n",
       "  year 5 teacher year 5 teaching assistant  \\\n",
       "0            0.0                       0.0   \n",
       "1            0.0                       0.0   \n",
       "2            0.0                       0.0   \n",
       "3            0.0                       0.0   \n",
       "4            0.0                       0.0   \n",
       "\n",
       "  year 5 teaching assistant - coventry primary school year 6 teacher  \\\n",
       "0                                                0.0             0.0   \n",
       "1                                                0.0             0.0   \n",
       "2                                                0.0             0.0   \n",
       "3                                                0.0             0.0   \n",
       "4                                                0.0             0.0   \n",
       "\n",
       "  year 6 teacher, leeds year 6 teaching assistant youth mentor  \n",
       "0                   0.0                       0.0          0.0  \n",
       "1                   0.0                       0.0          0.0  \n",
       "2                   0.0                       0.0          0.0  \n",
       "3                   0.0                       0.0          0.0  \n",
       "4                   0.0                       0.0          0.0  \n",
       "\n",
       "[5 rows x 3890 columns]"
      ]
     },
     "execution_count": 13,
     "metadata": {},
     "output_type": "execute_result"
    }
   ],
   "source": [
    "X.head()"
   ]
  },
  {
   "cell_type": "code",
   "execution_count": 14,
   "metadata": {
    "id": "bMtxrWwItwmg"
   },
   "outputs": [],
   "source": [
    "# setting int value for each label in the target column\n",
    "y = df['industry']\n",
    "\n",
    "y = pd.DataFrame(y)\n",
    "\n",
    "industry_ = {\"IT\":0 , \"Marketing\":1 , \"Education\":2 , \"Accountancy\":3 }\n",
    "\n",
    "y['industry'] = y['industry'].replace(industry_) "
   ]
  },
  {
   "cell_type": "code",
   "execution_count": 15,
   "metadata": {
    "colab": {
     "base_uri": "https://localhost:8080/"
    },
    "id": "AruFxmMStwmg",
    "outputId": "896b91a5-e67c-4964-f24e-62d81ec98934"
   },
   "outputs": [
    {
     "data": {
      "text/plain": [
       "(3968, 3890)"
      ]
     },
     "execution_count": 15,
     "metadata": {},
     "output_type": "execute_result"
    }
   ],
   "source": [
    "X.shape"
   ]
  },
  {
   "cell_type": "code",
   "execution_count": 16,
   "metadata": {
    "colab": {
     "base_uri": "https://localhost:8080/"
    },
    "id": "LpezhpgQtwmh",
    "outputId": "86e76bef-9763-4fcb-a8ab-602d544c2cd9"
   },
   "outputs": [
    {
     "data": {
      "text/plain": [
       "(3968, 1)"
      ]
     },
     "execution_count": 16,
     "metadata": {},
     "output_type": "execute_result"
    }
   ],
   "source": [
    "y.shape"
   ]
  },
  {
   "cell_type": "code",
   "execution_count": 17,
   "metadata": {
    "colab": {
     "base_uri": "https://localhost:8080/"
    },
    "id": "_iLNNwZptwmh",
    "outputId": "8c7c1181-af6f-4291-8b25-b70b2a8aec87"
   },
   "outputs": [],
   "source": [
    "# the labels column is imbalanced so we used SMOTE to oversample the minority labels to be equal with other labels\n",
    "smt = SMOTE()\n",
    "\n",
    "X , y = smt.fit_resample( X , y )"
   ]
  },
  {
   "cell_type": "code",
   "execution_count": 18,
   "metadata": {},
   "outputs": [],
   "source": [
    "# convert y to 1d array\n",
    "y = y.to_numpy()\n",
    "y = y.ravel()"
   ]
  },
  {
   "cell_type": "code",
   "execution_count": 19,
   "metadata": {
    "id": "rV87-DXstwmh"
   },
   "outputs": [],
   "source": [
    "#splitting the data set to train and test\n",
    "X_train, X_test, y_train, y_test = train_test_split(X, y, test_size=0.2 , random_state=42 , shuffle=True )\n"
   ]
  },
  {
   "cell_type": "code",
   "execution_count": 20,
   "metadata": {
    "colab": {
     "base_uri": "https://localhost:8080/"
    },
    "id": "rKBDiUR1swL3",
    "outputId": "09a5b8e1-0973-4a83-fbd2-c0af367fd926"
   },
   "outputs": [
    {
     "data": {
      "text/plain": [
       "pandas.core.frame.DataFrame"
      ]
     },
     "execution_count": 20,
     "metadata": {},
     "output_type": "execute_result"
    }
   ],
   "source": [
    "type(X_test)"
   ]
  },
  {
   "cell_type": "code",
   "execution_count": 21,
   "metadata": {
    "colab": {
     "base_uri": "https://localhost:8080/"
    },
    "id": "CkGaQ35AbqC5",
    "outputId": "73b883f9-2ae0-415a-bdef-d2ad23b59685"
   },
   "outputs": [
    {
     "data": {
      "text/plain": [
       "(1224, 3890)"
      ]
     },
     "execution_count": 21,
     "metadata": {},
     "output_type": "execute_result"
    }
   ],
   "source": [
    "X_test.shape"
   ]
  },
  {
   "cell_type": "markdown",
   "metadata": {},
   "source": [
    "# importing and training the model"
   ]
  },
  {
   "cell_type": "code",
   "execution_count": 22,
   "metadata": {
    "colab": {
     "base_uri": "https://localhost:8080/"
    },
    "id": "1v8Nr1JkM1Xg",
    "outputId": "e736c695-a2b5-4430-dfa2-a085b064d2fa"
   },
   "outputs": [
    {
     "name": "stdout",
     "output_type": "stream",
     "text": [
      "Accuracy: 0.9893790849673203\n"
     ]
    }
   ],
   "source": [
    "from sklearn import svm\n",
    "clf = svm.SVC(kernel='linear'  )\n",
    "clf.fit(X,y)\n",
    "y_pred = clf.predict(X_test)\n",
    "print(\"Accuracy:\",metrics.accuracy_score(y_test, y_pred))\n",
    "\n",
    "\n",
    "\n"
   ]
  },
  {
   "cell_type": "markdown",
   "metadata": {},
   "source": [
    "# function uses the model to return the prediction"
   ]
  },
  {
   "cell_type": "code",
   "execution_count": 23,
   "metadata": {
    "id": "Ggca5aGNtJ0X"
   },
   "outputs": [],
   "source": [
    "def industry_name(job_name):\n",
    "\n",
    "    \n",
    "    #getting X dataframe to get names of columns from it\n",
    "    from sklearn.preprocessing import OneHotEncoder\n",
    "    cat_encoder = OneHotEncoder()\n",
    "    encoded_column = cat_encoder.fit_transform( df[['job title']] )\n",
    "    X = pd.DataFrame(encoded_column.toarray() , columns = cat_encoder.categories_)\n",
    "\n",
    "\n",
    "    \n",
    "    #creating dataframe called n with the same column names of X dataframe\n",
    "    n = pd.DataFrame(columns=X.columns)\n",
    "    \n",
    "    \n",
    "    #setting zero for all values in in df\n",
    "    n.loc[len(n)] = 0\n",
    "    \n",
    "    #change the value of zero in the column with 1\n",
    "    n.xs(0)[job_name] =1\n",
    "\n",
    "    \n",
    "    # use the model to predict the industry name\n",
    "    predicted_industry = clf.predict(n)\n",
    "    \n",
    "    if predicted_industry == [0]:\n",
    "        return (\"IT\")\n",
    "    \n",
    "    elif predicted_industry == [1]:\n",
    "        return (\"Marketing\")\n",
    "    \n",
    "    elif predicted_industry == [2]:\n",
    "        return (\"Education\")\n",
    "    \n",
    "    else :\n",
    "        return (\"Accountacy\")\n",
    "\n",
    "    \n",
    "\n"
   ]
  },
  {
   "cell_type": "markdown",
   "metadata": {},
   "source": [
    "# RESTful API service"
   ]
  },
  {
   "cell_type": "code",
   "execution_count": null,
   "metadata": {
    "id": "cmLTt3HGTd7F",
    "scrolled": false
   },
   "outputs": [
    {
     "name": "stdout",
     "output_type": "stream",
     "text": [
      " * Serving Flask app \"__main__\" (lazy loading)\n",
      " * Environment: production\n",
      "   WARNING: This is a development server. Do not use it in a production deployment.\n",
      "   Use a production WSGI server instead.\n",
      " * Debug mode: off\n"
     ]
    },
    {
     "name": "stderr",
     "output_type": "stream",
     "text": [
      " * Running on http://127.0.0.1:5000/ (Press CTRL+C to quit)\n",
      "127.0.0.1 - - [07/Nov/2021 11:56:04] \"\u001b[37mGET / HTTP/1.1\u001b[0m\" 200 -\n",
      "127.0.0.1 - - [07/Nov/2021 11:56:04] \"\u001b[33mGET /favicon.ico HTTP/1.1\u001b[0m\" 404 -\n",
      "127.0.0.1 - - [07/Nov/2021 12:03:40] \"\u001b[37mPOST / HTTP/1.1\u001b[0m\" 200 -\n",
      "127.0.0.1 - - [07/Nov/2021 12:03:53] \"\u001b[37mPOST / HTTP/1.1\u001b[0m\" 200 -\n",
      "127.0.0.1 - - [07/Nov/2021 12:03:54] \"\u001b[37mPOST / HTTP/1.1\u001b[0m\" 200 -\n",
      "127.0.0.1 - - [07/Nov/2021 12:03:59] \"\u001b[37mPOST / HTTP/1.1\u001b[0m\" 200 -\n",
      "127.0.0.1 - - [07/Nov/2021 12:04:02] \"\u001b[37mPOST / HTTP/1.1\u001b[0m\" 200 -\n",
      "127.0.0.1 - - [07/Nov/2021 12:04:05] \"\u001b[37mPOST / HTTP/1.1\u001b[0m\" 200 -\n"
     ]
    }
   ],
   "source": [
    "from flask import Flask , render_template , request\n",
    "\n",
    "\n",
    "app = Flask(__name__)\n",
    "\n",
    "@app.route(\"/\" , methods = [\"GET\" ,\"POST\"])\n",
    "def hello():\n",
    "    \n",
    "    i_n_p = 0\n",
    "    \n",
    "  \n",
    "        \n",
    "    if request.method == \"POST\":\n",
    "        \n",
    "       \n",
    "        \n",
    "        \n",
    "        jobname = request.form['jobname']\n",
    "        \n",
    "        industry_name_predicted = industry_name(jobname)\n",
    "        \n",
    "        i_n_p = industry_name_predicted\n",
    "\n",
    "        \n",
    "    return render_template(\"index.html\" , industry = i_n_p )\n",
    "\n",
    "\n",
    "\n",
    "\n",
    "@app.route(\"/sub\" , methods=['POST'])\n",
    "def submit():\n",
    "    # HTML --> .py\n",
    "    if request.method ==\"POST\":\n",
    "        name = request.form[\"jobname\"]\n",
    "    # .py --> HTML  \n",
    "    return render_template(\"sub.html\" , n = name)\n",
    "\n",
    "\n",
    "\n",
    "\n",
    "\n",
    "\n",
    "if __name__ == \"__main__\":\n",
    "    app.run()\n",
    "    "
   ]
  },
  {
   "cell_type": "code",
   "execution_count": null,
   "metadata": {},
   "outputs": [],
   "source": []
  }
 ],
 "metadata": {
  "colab": {
   "name": "project.ipynb",
   "provenance": []
  },
  "kernelspec": {
   "display_name": "Python 3",
   "language": "python",
   "name": "python3"
  },
  "language_info": {
   "codemirror_mode": {
    "name": "ipython",
    "version": 3
   },
   "file_extension": ".py",
   "mimetype": "text/x-python",
   "name": "python",
   "nbconvert_exporter": "python",
   "pygments_lexer": "ipython3",
   "version": "3.8.5"
  }
 },
 "nbformat": 4,
 "nbformat_minor": 1
}
