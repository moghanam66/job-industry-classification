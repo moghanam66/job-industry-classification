{
 "cells": [
  {
   "cell_type": "code",
   "execution_count": 1,
   "metadata": {
    "colab": {
     "base_uri": "https://localhost:8080/"
    },
    "id": "Ckqq9m-ytwmW",
    "outputId": "ef157e22-38e2-4f17-8f82-d17bdc188051"
   },
   "outputs": [],
   "source": [
    "import pandas as pd\n",
    "from imblearn.over_sampling import SMOTE\n",
    "import numpy as np\n",
    "from sklearn.model_selection import train_test_split\n",
    "from sklearn import metrics"
   ]
  },
  {
   "cell_type": "code",
   "execution_count": 2,
   "metadata": {
    "id": "D-A1ziG4twmY"
   },
   "outputs": [],
   "source": [
    "df = pd.read_csv(\"Job titles and industries.csv\")"
   ]
  },
  {
   "cell_type": "code",
   "execution_count": 3,
   "metadata": {
    "colab": {
     "base_uri": "https://localhost:8080/",
     "height": 203
    },
    "id": "kFDLBksCtwmZ",
    "outputId": "325ff219-81df-494e-bc40-d9f9f143aafc"
   },
   "outputs": [
    {
     "data": {
      "text/html": [
       "<div>\n",
       "<style scoped>\n",
       "    .dataframe tbody tr th:only-of-type {\n",
       "        vertical-align: middle;\n",
       "    }\n",
       "\n",
       "    .dataframe tbody tr th {\n",
       "        vertical-align: top;\n",
       "    }\n",
       "\n",
       "    .dataframe thead th {\n",
       "        text-align: right;\n",
       "    }\n",
       "</style>\n",
       "<table border=\"1\" class=\"dataframe\">\n",
       "  <thead>\n",
       "    <tr style=\"text-align: right;\">\n",
       "      <th></th>\n",
       "      <th>job title</th>\n",
       "      <th>industry</th>\n",
       "    </tr>\n",
       "  </thead>\n",
       "  <tbody>\n",
       "    <tr>\n",
       "      <th>0</th>\n",
       "      <td>technical support and helpdesk supervisor - co...</td>\n",
       "      <td>IT</td>\n",
       "    </tr>\n",
       "    <tr>\n",
       "      <th>1</th>\n",
       "      <td>senior technical support engineer</td>\n",
       "      <td>IT</td>\n",
       "    </tr>\n",
       "    <tr>\n",
       "      <th>2</th>\n",
       "      <td>head of it services</td>\n",
       "      <td>IT</td>\n",
       "    </tr>\n",
       "    <tr>\n",
       "      <th>3</th>\n",
       "      <td>js front end engineer</td>\n",
       "      <td>IT</td>\n",
       "    </tr>\n",
       "    <tr>\n",
       "      <th>4</th>\n",
       "      <td>network and telephony controller</td>\n",
       "      <td>IT</td>\n",
       "    </tr>\n",
       "  </tbody>\n",
       "</table>\n",
       "</div>"
      ],
      "text/plain": [
       "                                           job title industry\n",
       "0  technical support and helpdesk supervisor - co...       IT\n",
       "1                  senior technical support engineer       IT\n",
       "2                                head of it services       IT\n",
       "3                              js front end engineer       IT\n",
       "4                   network and telephony controller       IT"
      ]
     },
     "execution_count": 3,
     "metadata": {},
     "output_type": "execute_result"
    }
   ],
   "source": [
    "df.head()"
   ]
  },
  {
   "cell_type": "code",
   "execution_count": 4,
   "metadata": {
    "colab": {
     "base_uri": "https://localhost:8080/"
    },
    "id": "DEnz8rgLtwma",
    "outputId": "7fc28358-a13f-4bf2-e7f1-7ebdf136553e"
   },
   "outputs": [
    {
     "data": {
      "text/plain": [
       "(8586, 2)"
      ]
     },
     "execution_count": 4,
     "metadata": {},
     "output_type": "execute_result"
    }
   ],
   "source": [
    "df.shape"
   ]
  },
  {
   "cell_type": "code",
   "execution_count": 5,
   "metadata": {
    "colab": {
     "base_uri": "https://localhost:8080/"
    },
    "id": "_5XrR8Oztwmb",
    "outputId": "11de6397-dd31-422b-f3dc-8dec8b15bba3"
   },
   "outputs": [
    {
     "name": "stdout",
     "output_type": "stream",
     "text": [
      "True     4618\n",
      "False    3968\n",
      "dtype: int64\n"
     ]
    }
   ],
   "source": [
    "print(df.duplicated().value_counts())"
   ]
  },
  {
   "cell_type": "code",
   "execution_count": 6,
   "metadata": {
    "id": "CEutFuGKtwmb"
   },
   "outputs": [],
   "source": [
    "df.drop_duplicates(inplace=True)"
   ]
  },
  {
   "cell_type": "code",
   "execution_count": 7,
   "metadata": {
    "colab": {
     "base_uri": "https://localhost:8080/"
    },
    "id": "Zcw_IeRstwmc",
    "outputId": "9701b665-19b8-44f6-f90c-d00d1f4bb282"
   },
   "outputs": [
    {
     "data": {
      "text/plain": [
       "(3968, 2)"
      ]
     },
     "execution_count": 7,
     "metadata": {},
     "output_type": "execute_result"
    }
   ],
   "source": [
    "df.shape"
   ]
  },
  {
   "cell_type": "code",
   "execution_count": 8,
   "metadata": {
    "colab": {
     "base_uri": "https://localhost:8080/"
    },
    "id": "Oa5s5hiHtwmc",
    "outputId": "3e1ad3d2-7c16-4a33-db4d-d93bca5d1cda"
   },
   "outputs": [
    {
     "data": {
      "text/plain": [
       "job title    0\n",
       "industry     0\n",
       "dtype: int64"
      ]
     },
     "execution_count": 8,
     "metadata": {},
     "output_type": "execute_result"
    }
   ],
   "source": [
    "df.isnull().sum()"
   ]
  },
  {
   "cell_type": "code",
   "execution_count": 9,
   "metadata": {
    "colab": {
     "base_uri": "https://localhost:8080/"
    },
    "id": "jbRpJDAptwmd",
    "outputId": "be5c3d9d-4f2f-4c60-ed1b-b44b58632a1f"
   },
   "outputs": [
    {
     "name": "stdout",
     "output_type": "stream",
     "text": [
      "['technical support and helpdesk supervisor - county buildings, ayr soa04086'\n",
      " 'senior technical support engineer' 'head of it services' ...\n",
      " 'sales & marketing manager' 'marketing & digital marketing consultant'\n",
      " 'creative copywriter (arabic/english)']\n"
     ]
    }
   ],
   "source": [
    "unique_job_titles = df['job title'].unique()\n",
    "print(unique_job_titles)"
   ]
  },
  {
   "cell_type": "code",
   "execution_count": 10,
   "metadata": {
    "colab": {
     "base_uri": "https://localhost:8080/"
    },
    "id": "kCXZJNdgtwme",
    "outputId": "2ff582f0-a529-469d-b1c4-da403fed5d70"
   },
   "outputs": [
    {
     "data": {
      "text/plain": [
       "product manager                                   3\n",
       "business development manager                      3\n",
       "commercial analyst                                3\n",
       "technical support engineer                        3\n",
       "data analyst                                      3\n",
       "                                                 ..\n",
       "product marketing manager - financial services    1\n",
       "software test engineer : take ownership           1\n",
       "information security manager - cyber security     1\n",
       "country manager                                   1\n",
       "community affairs communications assistant        1\n",
       "Name: job title, Length: 3890, dtype: int64"
      ]
     },
     "execution_count": 10,
     "metadata": {},
     "output_type": "execute_result"
    }
   ],
   "source": [
    "df['job title'].value_counts()"
   ]
  },
  {
   "cell_type": "code",
   "execution_count": 11,
   "metadata": {
    "colab": {
     "base_uri": "https://localhost:8080/"
    },
    "id": "OAUaNCS2twmf",
    "outputId": "dcccc3e2-90c4-4d77-e699-522ef8f86927"
   },
   "outputs": [
    {
     "data": {
      "text/plain": [
       "IT             1529\n",
       "Marketing      1203\n",
       "Education       973\n",
       "Accountancy     263\n",
       "Name: industry, dtype: int64"
      ]
     },
     "execution_count": 11,
     "metadata": {},
     "output_type": "execute_result"
    }
   ],
   "source": [
    "df['industry'].value_counts()"
   ]
  },
  {
   "cell_type": "code",
   "execution_count": 12,
   "metadata": {
    "id": "I5SGnvp0twmf"
   },
   "outputs": [],
   "source": [
    "from sklearn.preprocessing import OneHotEncoder\n",
    "\n",
    "\n",
    "\n",
    "cat_encoder = OneHotEncoder()\n",
    "\n",
    "encoded_column = cat_encoder.fit_transform( df[['job title']] )\n",
    "\n",
    "X = pd.DataFrame(encoded_column.toarray() , columns = cat_encoder.categories_)"
   ]
  },
  {
   "cell_type": "code",
   "execution_count": 13,
   "metadata": {
    "colab": {
     "base_uri": "https://localhost:8080/",
     "height": 437
    },
    "id": "iZWOGI0itwmf",
    "outputId": "a208a07d-3dc7-4e06-ce66-e463c272d795"
   },
   "outputs": [
    {
     "data": {
      "text/html": [
       "<div>\n",
       "<style scoped>\n",
       "    .dataframe tbody tr th:only-of-type {\n",
       "        vertical-align: middle;\n",
       "    }\n",
       "\n",
       "    .dataframe tbody tr th {\n",
       "        vertical-align: top;\n",
       "    }\n",
       "\n",
       "    .dataframe thead tr th {\n",
       "        text-align: left;\n",
       "    }\n",
       "</style>\n",
       "<table border=\"1\" class=\"dataframe\">\n",
       "  <thead>\n",
       "    <tr>\n",
       "      <th></th>\n",
       "      <th>'e' marketing assistant</th>\n",
       "      <th>.net / sql software engineer</th>\n",
       "      <th>.net analyst programmer</th>\n",
       "      <th>.net architect - asp.net  microservices aws</th>\n",
       "      <th>.net core - 6 month contract - reigate - competitive rates</th>\n",
       "      <th>.net developer</th>\n",
       "      <th>.net developer - .net core, react and vue.js</th>\n",
       "      <th>.net developer - angular - greenfield project</th>\n",
       "      <th>.net developer - asp.net</th>\n",
       "      <th>.net developer - c#</th>\n",
       "      <th>...</th>\n",
       "      <th>year 4 teacher - chichester</th>\n",
       "      <th>year 4 teacher required for outstanding primary- essex</th>\n",
       "      <th>year 5 &amp; 6 teacher</th>\n",
       "      <th>year 5 teacher</th>\n",
       "      <th>year 5 teaching assistant</th>\n",
       "      <th>year 5 teaching assistant - coventry primary school</th>\n",
       "      <th>year 6 teacher</th>\n",
       "      <th>year 6 teacher, leeds</th>\n",
       "      <th>year 6 teaching assistant</th>\n",
       "      <th>youth mentor</th>\n",
       "    </tr>\n",
       "  </thead>\n",
       "  <tbody>\n",
       "    <tr>\n",
       "      <th>0</th>\n",
       "      <td>0.0</td>\n",
       "      <td>0.0</td>\n",
       "      <td>0.0</td>\n",
       "      <td>0.0</td>\n",
       "      <td>0.0</td>\n",
       "      <td>0.0</td>\n",
       "      <td>0.0</td>\n",
       "      <td>0.0</td>\n",
       "      <td>0.0</td>\n",
       "      <td>0.0</td>\n",
       "      <td>...</td>\n",
       "      <td>0.0</td>\n",
       "      <td>0.0</td>\n",
       "      <td>0.0</td>\n",
       "      <td>0.0</td>\n",
       "      <td>0.0</td>\n",
       "      <td>0.0</td>\n",
       "      <td>0.0</td>\n",
       "      <td>0.0</td>\n",
       "      <td>0.0</td>\n",
       "      <td>0.0</td>\n",
       "    </tr>\n",
       "    <tr>\n",
       "      <th>1</th>\n",
       "      <td>0.0</td>\n",
       "      <td>0.0</td>\n",
       "      <td>0.0</td>\n",
       "      <td>0.0</td>\n",
       "      <td>0.0</td>\n",
       "      <td>0.0</td>\n",
       "      <td>0.0</td>\n",
       "      <td>0.0</td>\n",
       "      <td>0.0</td>\n",
       "      <td>0.0</td>\n",
       "      <td>...</td>\n",
       "      <td>0.0</td>\n",
       "      <td>0.0</td>\n",
       "      <td>0.0</td>\n",
       "      <td>0.0</td>\n",
       "      <td>0.0</td>\n",
       "      <td>0.0</td>\n",
       "      <td>0.0</td>\n",
       "      <td>0.0</td>\n",
       "      <td>0.0</td>\n",
       "      <td>0.0</td>\n",
       "    </tr>\n",
       "    <tr>\n",
       "      <th>2</th>\n",
       "      <td>0.0</td>\n",
       "      <td>0.0</td>\n",
       "      <td>0.0</td>\n",
       "      <td>0.0</td>\n",
       "      <td>0.0</td>\n",
       "      <td>0.0</td>\n",
       "      <td>0.0</td>\n",
       "      <td>0.0</td>\n",
       "      <td>0.0</td>\n",
       "      <td>0.0</td>\n",
       "      <td>...</td>\n",
       "      <td>0.0</td>\n",
       "      <td>0.0</td>\n",
       "      <td>0.0</td>\n",
       "      <td>0.0</td>\n",
       "      <td>0.0</td>\n",
       "      <td>0.0</td>\n",
       "      <td>0.0</td>\n",
       "      <td>0.0</td>\n",
       "      <td>0.0</td>\n",
       "      <td>0.0</td>\n",
       "    </tr>\n",
       "    <tr>\n",
       "      <th>3</th>\n",
       "      <td>0.0</td>\n",
       "      <td>0.0</td>\n",
       "      <td>0.0</td>\n",
       "      <td>0.0</td>\n",
       "      <td>0.0</td>\n",
       "      <td>0.0</td>\n",
       "      <td>0.0</td>\n",
       "      <td>0.0</td>\n",
       "      <td>0.0</td>\n",
       "      <td>0.0</td>\n",
       "      <td>...</td>\n",
       "      <td>0.0</td>\n",
       "      <td>0.0</td>\n",
       "      <td>0.0</td>\n",
       "      <td>0.0</td>\n",
       "      <td>0.0</td>\n",
       "      <td>0.0</td>\n",
       "      <td>0.0</td>\n",
       "      <td>0.0</td>\n",
       "      <td>0.0</td>\n",
       "      <td>0.0</td>\n",
       "    </tr>\n",
       "    <tr>\n",
       "      <th>4</th>\n",
       "      <td>0.0</td>\n",
       "      <td>0.0</td>\n",
       "      <td>0.0</td>\n",
       "      <td>0.0</td>\n",
       "      <td>0.0</td>\n",
       "      <td>0.0</td>\n",
       "      <td>0.0</td>\n",
       "      <td>0.0</td>\n",
       "      <td>0.0</td>\n",
       "      <td>0.0</td>\n",
       "      <td>...</td>\n",
       "      <td>0.0</td>\n",
       "      <td>0.0</td>\n",
       "      <td>0.0</td>\n",
       "      <td>0.0</td>\n",
       "      <td>0.0</td>\n",
       "      <td>0.0</td>\n",
       "      <td>0.0</td>\n",
       "      <td>0.0</td>\n",
       "      <td>0.0</td>\n",
       "      <td>0.0</td>\n",
       "    </tr>\n",
       "  </tbody>\n",
       "</table>\n",
       "<p>5 rows × 3890 columns</p>\n",
       "</div>"
      ],
      "text/plain": [
       "  'e' marketing assistant .net / sql software engineer  \\\n",
       "0                     0.0                          0.0   \n",
       "1                     0.0                          0.0   \n",
       "2                     0.0                          0.0   \n",
       "3                     0.0                          0.0   \n",
       "4                     0.0                          0.0   \n",
       "\n",
       "  .net analyst programmer .net architect - asp.net  microservices aws  \\\n",
       "0                     0.0                                         0.0   \n",
       "1                     0.0                                         0.0   \n",
       "2                     0.0                                         0.0   \n",
       "3                     0.0                                         0.0   \n",
       "4                     0.0                                         0.0   \n",
       "\n",
       "  .net core - 6 month contract - reigate - competitive rates .net developer  \\\n",
       "0                                                0.0                    0.0   \n",
       "1                                                0.0                    0.0   \n",
       "2                                                0.0                    0.0   \n",
       "3                                                0.0                    0.0   \n",
       "4                                                0.0                    0.0   \n",
       "\n",
       "  .net developer - .net core, react and vue.js  \\\n",
       "0                                          0.0   \n",
       "1                                          0.0   \n",
       "2                                          0.0   \n",
       "3                                          0.0   \n",
       "4                                          0.0   \n",
       "\n",
       "  .net developer - angular - greenfield project .net developer - asp.net  \\\n",
       "0                                           0.0                      0.0   \n",
       "1                                           0.0                      0.0   \n",
       "2                                           0.0                      0.0   \n",
       "3                                           0.0                      0.0   \n",
       "4                                           0.0                      0.0   \n",
       "\n",
       "  .net developer - c#  ... year 4 teacher - chichester  \\\n",
       "0                 0.0  ...                         0.0   \n",
       "1                 0.0  ...                         0.0   \n",
       "2                 0.0  ...                         0.0   \n",
       "3                 0.0  ...                         0.0   \n",
       "4                 0.0  ...                         0.0   \n",
       "\n",
       "  year 4 teacher required for outstanding primary- essex year 5 & 6 teacher  \\\n",
       "0                                                0.0                    0.0   \n",
       "1                                                0.0                    0.0   \n",
       "2                                                0.0                    0.0   \n",
       "3                                                0.0                    0.0   \n",
       "4                                                0.0                    0.0   \n",
       "\n",
       "  year 5 teacher year 5 teaching assistant  \\\n",
       "0            0.0                       0.0   \n",
       "1            0.0                       0.0   \n",
       "2            0.0                       0.0   \n",
       "3            0.0                       0.0   \n",
       "4            0.0                       0.0   \n",
       "\n",
       "  year 5 teaching assistant - coventry primary school year 6 teacher  \\\n",
       "0                                                0.0             0.0   \n",
       "1                                                0.0             0.0   \n",
       "2                                                0.0             0.0   \n",
       "3                                                0.0             0.0   \n",
       "4                                                0.0             0.0   \n",
       "\n",
       "  year 6 teacher, leeds year 6 teaching assistant youth mentor  \n",
       "0                   0.0                       0.0          0.0  \n",
       "1                   0.0                       0.0          0.0  \n",
       "2                   0.0                       0.0          0.0  \n",
       "3                   0.0                       0.0          0.0  \n",
       "4                   0.0                       0.0          0.0  \n",
       "\n",
       "[5 rows x 3890 columns]"
      ]
     },
     "execution_count": 13,
     "metadata": {},
     "output_type": "execute_result"
    }
   ],
   "source": [
    "X.head()"
   ]
  },
  {
   "cell_type": "code",
   "execution_count": 14,
   "metadata": {
    "id": "bMtxrWwItwmg"
   },
   "outputs": [],
   "source": [
    "y = df['industry']\n",
    "\n",
    "y = pd.DataFrame(y)\n",
    "\n",
    "industry_ = {\"IT\":0 , \"Marketing\":1 , \"Education\":2 , \"Accountancy\":3 }\n",
    "\n",
    "y['industry'] = y['industry'].replace(industry_) "
   ]
  },
  {
   "cell_type": "code",
   "execution_count": 15,
   "metadata": {
    "colab": {
     "base_uri": "https://localhost:8080/"
    },
    "id": "AruFxmMStwmg",
    "outputId": "323e0fd8-f7cc-4acf-f4df-c4ed08ddfdf8"
   },
   "outputs": [
    {
     "data": {
      "text/plain": [
       "(3968, 3890)"
      ]
     },
     "execution_count": 15,
     "metadata": {},
     "output_type": "execute_result"
    }
   ],
   "source": [
    "X.shape"
   ]
  },
  {
   "cell_type": "code",
   "execution_count": 16,
   "metadata": {
    "colab": {
     "base_uri": "https://localhost:8080/"
    },
    "id": "LpezhpgQtwmh",
    "outputId": "64653bd4-dc4a-4aae-b713-73a0bfab205b"
   },
   "outputs": [
    {
     "data": {
      "text/plain": [
       "(3968, 1)"
      ]
     },
     "execution_count": 16,
     "metadata": {},
     "output_type": "execute_result"
    }
   ],
   "source": [
    "y.shape"
   ]
  },
  {
   "cell_type": "code",
   "execution_count": 17,
   "metadata": {
    "colab": {
     "base_uri": "https://localhost:8080/"
    },
    "id": "_iLNNwZptwmh",
    "outputId": "44c65ea7-7902-4ca4-b828-ebb20d581d36"
   },
   "outputs": [],
   "source": [
    "smt = SMOTE()\n",
    "\n",
    "X , y = smt.fit_resample( X , y )"
   ]
  },
  {
   "cell_type": "code",
   "execution_count": 18,
   "metadata": {
    "id": "rV87-DXstwmh"
   },
   "outputs": [],
   "source": [
    "X_train, X_test, y_train, y_test = train_test_split(X, y, test_size=0.2 , random_state=42 , shuffle=True )\n",
    "\n"
   ]
  },
  {
   "cell_type": "code",
   "execution_count": null,
   "metadata": {
    "id": "1v8Nr1JkM1Xg"
   },
   "outputs": [
    {
     "name": "stderr",
     "output_type": "stream",
     "text": [
      "C:\\Users\\Mohamed Elghannam\\anaconda3\\lib\\site-packages\\sklearn\\utils\\validation.py:63: DataConversionWarning: A column-vector y was passed when a 1d array was expected. Please change the shape of y to (n_samples, ), for example using ravel().\n",
      "  return f(*args, **kwargs)\n"
     ]
    }
   ],
   "source": [
    "from sklearn import svm\n",
    "clf = svm.SVC(kernel='linear'  )\n",
    "clf.fit(X,y)\n",
    "y_pred = clf.predict(X_test)\n",
    "print(\"Accuracy:\",metrics.accuracy_score(y_test, y_pred))\n",
    "\n",
    "\n"
   ]
  },
  {
   "cell_type": "code",
   "execution_count": null,
   "metadata": {
    "id": "NU7d3AoZXFfw"
   },
   "outputs": [],
   "source": [
    "type(y)"
   ]
  },
  {
   "cell_type": "code",
   "execution_count": null,
   "metadata": {
    "id": "PKVSp2PRXLOk"
   },
   "outputs": [],
   "source": []
  }
 ],
 "metadata": {
  "colab": {
   "name": "project.ipynb",
   "provenance": []
  },
  "kernelspec": {
   "display_name": "Python 3",
   "language": "python",
   "name": "python3"
  },
  "language_info": {
   "codemirror_mode": {
    "name": "ipython",
    "version": 3
   },
   "file_extension": ".py",
   "mimetype": "text/x-python",
   "name": "python",
   "nbconvert_exporter": "python",
   "pygments_lexer": "ipython3",
   "version": "3.8.5"
  }
 },
 "nbformat": 4,
 "nbformat_minor": 1
}
